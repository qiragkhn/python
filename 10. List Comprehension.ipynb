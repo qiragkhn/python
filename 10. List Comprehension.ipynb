{
 "cells": [
  {
   "cell_type": "markdown",
   "metadata": {},
   "source": [
    "# List comprehension (Liste Geliştirme)"
   ]
  },
  {
   "cell_type": "code",
   "execution_count": 1,
   "metadata": {},
   "outputs": [
    {
     "name": "stdout",
     "output_type": "stream",
     "text": [
      "[1, 2, 3, 4, 5, 6]\n"
     ]
    }
   ],
   "source": [
    "liste = [1,2,3,4,5]\n",
    "liste.append(6)\n",
    "print(liste)"
   ]
  },
  {
   "cell_type": "markdown",
   "metadata": {},
   "source": [
    "Aşağıdaki örnekte, liste1' den yen bir liste oluşturulmak isteniyor. Böylece bir listeden bir başka liste oluşturulabilir."
   ]
  },
  {
   "cell_type": "code",
   "execution_count": 2,
   "metadata": {},
   "outputs": [
    {
     "name": "stdout",
     "output_type": "stream",
     "text": [
      "[1, 2, 3, 4, 5]\n"
     ]
    }
   ],
   "source": [
    "liste1 = [1,2,3,4,5]\n",
    "\n",
    "liste2 = list()\n",
    "\n",
    "for i in liste1:\n",
    "    liste2.append(i)\n",
    "print(liste2)\n"
   ]
  },
  {
   "cell_type": "markdown",
   "metadata": {},
   "source": [
    " Ancak yukarıdaki komut saıtırı uzun bir işlem, bu işlemi list comprehension ile kolaylaştırabiliriz. "
   ]
  },
  {
   "cell_type": "code",
   "execution_count": 3,
   "metadata": {},
   "outputs": [
    {
     "name": "stdout",
     "output_type": "stream",
     "text": [
      "[1, 2, 3, 4, 5]\n"
     ]
    }
   ],
   "source": [
    "liste3 = [1,2,3,4,5]\n",
    "\n",
    "liste4 = [i for i in liste3]\n",
    "print(liste4)"
   ]
  },
  {
   "cell_type": "markdown",
   "metadata": {},
   "source": [
    "Burada for döngüsü blok halinde değildir ve list comprehension için for' un bu kullanımı oldukça pratiktir. Komut satırında şu işlem yapılır: i değişkeni for döngüsü ile liste3' ün elemanları üzerinde gezilir ve okunan her değer liste4' ün i elemanı olarak atanır. Böylece pratik bir şekilde liste3'ten liste4 elde edilmiş olur. "
   ]
  },
  {
   "cell_type": "code",
   "execution_count": 5,
   "metadata": {},
   "outputs": [
    {
     "name": "stdout",
     "output_type": "stream",
     "text": [
      "[6, 8, 10]\n"
     ]
    }
   ],
   "source": [
    "liste = [3,4,5]\n",
    "\n",
    "liste1 = [i *2 for i in liste]\n",
    "print(liste1)"
   ]
  },
  {
   "cell_type": "code",
   "execution_count": 7,
   "metadata": {},
   "outputs": [
    {
     "name": "stdout",
     "output_type": "stream",
     "text": [
      "[2, 12, 30]\n"
     ]
    }
   ],
   "source": [
    "liste = [(1,2), (3,4), (5,6)]\n",
    "\n",
    "liste1 = [i*j for i,j in liste]\n",
    "print(liste1)"
   ]
  },
  {
   "cell_type": "code",
   "execution_count": 8,
   "metadata": {},
   "outputs": [
    {
     "name": "stdout",
     "output_type": "stream",
     "text": [
      "['ppp', 'yyy', 'ttt', 'hhh', 'ooo', 'nnn']\n"
     ]
    }
   ],
   "source": [
    "s= \"python\"\n",
    "\n",
    "liste1 = [i*3 for i in s]\n",
    "print(liste1)"
   ]
  },
  {
   "cell_type": "code",
   "execution_count": 9,
   "metadata": {},
   "outputs": [
    {
     "name": "stdout",
     "output_type": "stream",
     "text": [
      "1\n",
      "2\n",
      "3\n",
      "4\n",
      "5\n",
      "6\n",
      "7\n",
      "8\n",
      "9\n",
      "10\n",
      "11\n",
      "12\n"
     ]
    }
   ],
   "source": [
    "liste = [[1,2,3], [4,5,6,7,8], [9,10,11,12]]\n",
    "\n",
    "for i in liste:\n",
    "    for j in i:\n",
    "        print(j)"
   ]
  },
  {
   "cell_type": "markdown",
   "metadata": {},
   "source": [
    "yukarıdaki uygulamada, for döngüsü içerisindeki i sayısı, listenin içindeki i'inci listeye karşı geliyor. dikkat edilirse j ile de i listesinin içinde geziliyor. sonuçta j yazdırıldığında, liste nin elemanları ekrana yazdırılmış olur."
   ]
  },
  {
   "cell_type": "markdown",
   "metadata": {},
   "source": [
    "Yukarıdaki programda elde edilen listenin elemanları ile yeni ibr liste oluşturulması istenirse aşağıdaki yöntem uygulanabilir. "
   ]
  },
  {
   "cell_type": "code",
   "execution_count": 10,
   "metadata": {},
   "outputs": [
    {
     "name": "stdout",
     "output_type": "stream",
     "text": [
      "[1, 2, 3, 4, 5, 6, 7, 8, 9, 10, 11, 12]\n"
     ]
    }
   ],
   "source": [
    "liste = [[1,2,3], [4,5,6,7,8], [9,10,11,12]]\n",
    "liste1 = list()\n",
    "\n",
    "for i in liste:\n",
    "    for j in i:\n",
    "        \n",
    "        liste1.append(j)\n",
    "print(liste1)"
   ]
  },
  {
   "cell_type": "markdown",
   "metadata": {},
   "source": [
    "Hemen aşağıdaki uygulama, list comprehension ile aynı işlemi yapmaktadır. "
   ]
  },
  {
   "cell_type": "code",
   "execution_count": 11,
   "metadata": {},
   "outputs": [
    {
     "name": "stdout",
     "output_type": "stream",
     "text": [
      "[1, 2, 3, 4, 5, 6, 7, 8, 9, 10, 11, 12]\n"
     ]
    }
   ],
   "source": [
    "liste = [[1,2,3], [4,5,6,7,8], [9,10,11,12]]\n",
    "liste1 = [j for i in liste for j in i]\n",
    "print(liste1)"
   ]
  },
  {
   "cell_type": "markdown",
   "metadata": {},
   "source": [
    "burada ilk for, j' nin i üzeirnde gezdirildiği ikinci for' dan gelen i' ler üzerinden j' yi gezdirmektedir. Bir nevi iç içe döngü gibi düşünülebilir. "
   ]
  },
  {
   "cell_type": "markdown",
   "metadata": {},
   "source": [
    "# ÖRNEKLER"
   ]
  },
  {
   "cell_type": "markdown",
   "metadata": {},
   "source": [
    "# Lütfen bu uygulamaları PyCharm'da yapınız !!! "
   ]
  },
  {
   "cell_type": "markdown",
   "metadata": {},
   "source": [
    "# Gelişmiş Kullanıcı girişi "
   ]
  },
  {
   "cell_type": "code",
   "execution_count": 12,
   "metadata": {},
   "outputs": [
    {
     "name": "stdout",
     "output_type": "stream",
     "text": [
      "\n",
      "***********\n",
      "Kullanıcı Girişi Programı\n",
      "***********\n",
      "\n",
      "Kullanıcı AdıCevat Prekazi \n",
      "Parola33\n",
      "Kullanıcı Adı ve Parola Hataldıır\n",
      "Kullanıcı AdıOsman\n",
      "Parolasşlsşsşs\n",
      "Kullanıcı Adı ve Parola Hataldıır\n",
      "Kullanıcı Adımsşmsş\n",
      "Parolaşmsşlmşs\n",
      "Kullanıcı Adı ve Parola Hataldıır\n",
      "Giriş Hakkınız Tükenmiştir\n"
     ]
    }
   ],
   "source": [
    "print(\"\"\"\n",
    "***********\n",
    "Kullanıcı Girişi Programı\n",
    "***********\n",
    "\"\"\")\n",
    "\n",
    "sys_kullanıcı_adı = \"Cevat Prekazi\"\n",
    "sys_parola =  \"987654321\"\n",
    "\n",
    "giris_hakkı = 3\n",
    "while True:\n",
    "    kullanıcı_adı = input(\"Kullanıcı Adı: \")\n",
    "    parola = input(\"Parola: \")\n",
    "    if (kullanıcı_adı != sys_kullanıcı_adı and parola == sys_parola):\n",
    "        print(\"Kullanıcı Adı Hataldıır\")\n",
    "        giris_hakkı -= 1\n",
    "    elif (kullanıcı_adı == sys_kullanıcı_adı and parola != sys_parola):\n",
    "        print(\"Parola Hataldıır\")\n",
    "        giris_hakkı -= 1\n",
    "    elif (kullanıcı_adı != sys_kullanıcı_adı and parola != sys_parola):\n",
    "        print(\"Kullanıcı Adı ve Parola Hataldıır\")\n",
    "        giris_hakkı -= 1\n",
    "    else:\n",
    "        print(\"Sisteme Başarıyla Giriş Yapıldı\")\n",
    "        break\n",
    "    if(giris_hakkı == 0):\n",
    "        print(\"Giriş Hakkınız Tükenmiştir\")\n",
    "        break"
   ]
  },
  {
   "cell_type": "markdown",
   "metadata": {},
   "source": [
    "# ATM uygulaması "
   ]
  },
  {
   "cell_type": "code",
   "execution_count": 13,
   "metadata": {},
   "outputs": [
    {
     "name": "stdout",
     "output_type": "stream",
     "text": [
      "\n",
      "******************************************\n",
      "ATM Makinesine Hoşgeldiniz\n",
      "\n",
      "İşlemler: \n",
      "\n",
      "1- BAkiye Sorgulama\n",
      "2- Para Yatırma\n",
      "3- Para Çekme \n",
      "\n",
      "Progrmadan çıkmak için X tuşuna basınız. \n",
      "******************************************\n",
      "\n",
      "İşlem Numarası Seçiniz: 1\n",
      "Bakiyeniz 1000 TL'dir\n",
      "İşlem Numarası Seçiniz: 2\n",
      "Yatırmak istediğiniz Miktarı Giriniz: 3000\n",
      "Yeni Bakiyeniz 4000 TL'dir\n",
      "İşlem Numarası Seçiniz: 3\n",
      "Çekmek istediğiniz Miktar Giriniz: 4500\n",
      "Yeni Bakiyeniz -500 TL'dir\n",
      "Bu işlem için yeterli bakiyeniz yoktur\n",
      "İşlem Numarası Seçiniz: x\n",
      "Yine bekleriz\n"
     ]
    }
   ],
   "source": [
    "print(\"\"\"\n",
    "******************************************\n",
    "ATM Makinesine Hoşgeldiniz\n",
    "\n",
    "İşlemler: \n",
    "\n",
    "1- BAkiye Sorgulama\n",
    "2- Para Yatırma\n",
    "3- Para Çekme \n",
    "\n",
    "Progrmadan çıkmak için X tuşuna basınız. \n",
    "******************************************\n",
    "\"\"\")\n",
    "\n",
    "bakiye = 1000\n",
    "\n",
    "while True:\n",
    "    işlem = input(\"İşlem Numarası Seçiniz: \")\n",
    "\n",
    "    if (işlem == \"x\"):\n",
    "        print(\"Yine bekleriz\")\n",
    "        break\n",
    "    elif (işlem == \"1\"):\n",
    "        print(\"Bakiyeniz {} TL'dir\".format(bakiye))\n",
    "\n",
    "    elif (işlem == \"2\"):\n",
    "        miktar = int(input(\"Yatırmak istediğiniz Miktarı Giriniz: \"))\n",
    "\n",
    "        bakiye += miktar\n",
    "        print(\"Yeni Bakiyeniz {} TL'dir\".format(bakiye))\n",
    "    elif (işlem == \"3\"):\n",
    "        miktar = int(input(\"Çekmek istediğiniz Miktar Giriniz: \"))\n",
    "        bakiye2 = bakiye - miktar\n",
    "        print(\"Yeni Bakiyeniz {} TL'dir\".format(bakiye2))\n",
    "\n",
    "        if (bakiye - miktar < 0):\n",
    "            print(\"Bu işlem için yeterli bakiyeniz yoktur\")\n",
    "            continue\n",
    "    else:\n",
    "        print(\"Geçersiz İşlem\")"
   ]
  },
  {
   "cell_type": "markdown",
   "metadata": {},
   "source": [
    "# Factöriyel hesabı "
   ]
  },
  {
   "cell_type": "code",
   "execution_count": 1,
   "metadata": {},
   "outputs": [
    {
     "name": "stdout",
     "output_type": "stream",
     "text": [
      "\n",
      "**************************\n",
      "Faktöriyel bulma programı \n",
      "\n",
      "çıkmak için x'e basınız. \n",
      "**************************\n",
      "sayı:5\n",
      "sayının factoriyeli: 120\n",
      "sayı:6\n",
      "sayının factoriyeli: 720\n",
      "sayı:9\n",
      "sayının factoriyeli: 362880\n",
      "sayı:64\n",
      "sayının factoriyeli: 126886932185884164103433389335161480802865516174545192198801894375214704230400000000000000\n",
      "sayı:q\n",
      "Program sonlandırılıyor...\n"
     ]
    }
   ],
   "source": [
    "print(\"\"\"\n",
    "**************************\n",
    "Faktöriyel bulma programı \n",
    "\n",
    "çıkmak için x'e basınız. \n",
    "**************************\"\"\")\n",
    "\n",
    "while True:\n",
    "    sayı = input(\"sayı:\")\n",
    "    if (sayı == \"q\") :\n",
    "        print(\"Program sonlandırılıyor...\")\n",
    "        break\n",
    "\n",
    "    else:\n",
    "        sayı = int(sayı)\n",
    "\n",
    "        factoriyel = 1\n",
    "\n",
    "        for i in range(2,sayı+1):\n",
    "            factoriyel *= i\n",
    "        print(\"sayının factoriyeli:\", factoriyel)\n"
   ]
  },
  {
   "cell_type": "code",
   "execution_count": 2,
   "metadata": {},
   "outputs": [
    {
     "name": "stdout",
     "output_type": "stream",
     "text": [
      "\n",
      "**************************\n",
      "Faktöriyel bulma programı \n",
      "\n",
      "çıkmak için x'e basınız. \n",
      "**************************\n",
      "sayı:5\n",
      "factoriyel 1 i:  2\n",
      "factoriyel 2 i:  3\n",
      "factoriyel 6 i:  4\n",
      "factoriyel 24 i:  5\n",
      "sayının factoriyeli: 120\n",
      "_______________\n",
      "sayı:6\n",
      "factoriyel 1 i:  2\n",
      "factoriyel 2 i:  3\n",
      "factoriyel 6 i:  4\n",
      "factoriyel 24 i:  5\n",
      "factoriyel 120 i:  6\n",
      "sayının factoriyeli: 720\n",
      "_______________\n",
      "sayı:7\n",
      "factoriyel 1 i:  2\n",
      "factoriyel 2 i:  3\n",
      "factoriyel 6 i:  4\n",
      "factoriyel 24 i:  5\n",
      "factoriyel 120 i:  6\n",
      "factoriyel 720 i:  7\n",
      "sayının factoriyeli: 5040\n",
      "_______________\n",
      "sayı:q\n",
      "Program sonlandırılıyor...\n"
     ]
    }
   ],
   "source": [
    "print(\"\"\"\n",
    "**************************\n",
    "Faktöriyel bulma programı \n",
    "\n",
    "çıkmak için x'e basınız. \n",
    "**************************\"\"\")\n",
    "\n",
    "while True:\n",
    "    sayı = input(\"sayı:\")\n",
    "    if (sayı == \"q\") :\n",
    "        print(\"Program sonlandırılıyor...\")\n",
    "        break\n",
    "\n",
    "    else:\n",
    "        sayı = int(sayı)\n",
    "\n",
    "        factoriyel = 1\n",
    "\n",
    "        for i in range(2,sayı+1):\n",
    "            print(\"factoriyel\", factoriyel, \"i: \",i)\n",
    "            factoriyel *= i\n",
    "        print(\"sayının factoriyeli:\", factoriyel)\n",
    "        print(\"_______________\")"
   ]
  },
  {
   "cell_type": "code",
   "execution_count": null,
   "metadata": {},
   "outputs": [],
   "source": []
  }
 ],
 "metadata": {
  "kernelspec": {
   "display_name": "Python 3",
   "language": "python",
   "name": "python3"
  },
  "language_info": {
   "codemirror_mode": {
    "name": "ipython",
    "version": 3
   },
   "file_extension": ".py",
   "mimetype": "text/x-python",
   "name": "python",
   "nbconvert_exporter": "python",
   "pygments_lexer": "ipython3",
   "version": "3.7.4"
  }
 },
 "nbformat": 4,
 "nbformat_minor": 2
}
