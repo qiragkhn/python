{
 "cells": [
  {
   "cell_type": "markdown",
   "metadata": {},
   "source": [
    "# Lambda İfadeleri "
   ]
  },
  {
   "cell_type": "markdown",
   "metadata": {},
   "source": [
    "Lambda ifadeleri, fonksiyonlarımızı oluşturmak için pratik bir yöntemdir. Lambda ifadeleri list comprehensin'a benzemektedir. Bu nedenle list comprehension'ı hatırlayarak devam edelim."
   ]
  },
  {
   "cell_type": "code",
   "execution_count": 2,
   "metadata": {},
   "outputs": [],
   "source": [
    "liste1 = [1,2,3,4,5]\n",
    "\n",
    "liste2 = [i * 2 for i in liste1]"
   ]
  },
  {
   "cell_type": "code",
   "execution_count": 3,
   "metadata": {},
   "outputs": [
    {
     "data": {
      "text/plain": [
       "[2, 4, 6, 8, 10]"
      ]
     },
     "execution_count": 3,
     "metadata": {},
     "output_type": "execute_result"
    }
   ],
   "source": [
    "liste2"
   ]
  },
  {
   "cell_type": "markdown",
   "metadata": {},
   "source": [
    "Lambda ifadeleri, list comprehensina'a oldukça benzerdir ve tek bir satırda fonksiyon tanımlamamıza olanak tanır. \n",
    "\n",
    "Lambda ifadeleri\n",
    "\n",
    "etiket = lambda parametre1, parametre2,... : İşlem\n",
    "\n",
    "yapısıyla kullanılır. \n"
   ]
  },
  {
   "cell_type": "code",
   "execution_count": 4,
   "metadata": {
    "scrolled": true
   },
   "outputs": [
    {
     "name": "stdout",
     "output_type": "stream",
     "text": [
      "6\n"
     ]
    }
   ],
   "source": [
    "def ikikatı(x):\n",
    "    return x*2\n",
    "print(ikikatı(3))"
   ]
  },
  {
   "cell_type": "code",
   "execution_count": 6,
   "metadata": {
    "scrolled": true
   },
   "outputs": [
    {
     "name": "stdout",
     "output_type": "stream",
     "text": [
      "6\n"
     ]
    }
   ],
   "source": [
    "ikikatı = lambda x : x * 2\n",
    " \n",
    "print(ikikatı(3))"
   ]
  },
  {
   "cell_type": "code",
   "execution_count": 7,
   "metadata": {},
   "outputs": [
    {
     "name": "stdout",
     "output_type": "stream",
     "text": [
      "120\n"
     ]
    }
   ],
   "source": [
    "def toplama(x,y,z):\n",
    "    return x + y + z \n",
    "print(toplama(10,20,90))"
   ]
  },
  {
   "cell_type": "code",
   "execution_count": 9,
   "metadata": {},
   "outputs": [
    {
     "name": "stdout",
     "output_type": "stream",
     "text": [
      "120\n"
     ]
    }
   ],
   "source": [
    "toplama2 = lambda x,y,z : x + y + z\n",
    " \n",
    "print(toplama2(10,20,90))"
   ]
  },
  {
   "cell_type": "code",
   "execution_count": 10,
   "metadata": {},
   "outputs": [
    {
     "name": "stdout",
     "output_type": "stream",
     "text": [
      "amalmargorP nohtyP\n"
     ]
    }
   ],
   "source": [
    "def tersçevir(s):\n",
    "    return s[::-1]\n",
    " \n",
    "print(tersçevir(\"Python Programlama\"))"
   ]
  },
  {
   "cell_type": "code",
   "execution_count": 11,
   "metadata": {},
   "outputs": [
    {
     "name": "stdout",
     "output_type": "stream",
     "text": [
      "nohtyP\n"
     ]
    }
   ],
   "source": [
    "ters = lambda s: s[::-1]\n",
    " \n",
    "print(ters(\"Python\"))"
   ]
  },
  {
   "cell_type": "code",
   "execution_count": 15,
   "metadata": {},
   "outputs": [],
   "source": [
    "def tekçift(sayı):\n",
    "    return sayı % 2 == 0"
   ]
  },
  {
   "cell_type": "code",
   "execution_count": 16,
   "metadata": {},
   "outputs": [
    {
     "name": "stdout",
     "output_type": "stream",
     "text": [
      "False\n"
     ]
    }
   ],
   "source": [
    "print(tekçift(15))"
   ]
  },
  {
   "cell_type": "code",
   "execution_count": 13,
   "metadata": {},
   "outputs": [
    {
     "name": "stdout",
     "output_type": "stream",
     "text": [
      "True\n"
     ]
    }
   ],
   "source": [
    "print(tekçift(8))"
   ]
  },
  {
   "cell_type": "code",
   "execution_count": 17,
   "metadata": {},
   "outputs": [],
   "source": [
    "cifttek = lambda sayı : sayı % 2 == 0"
   ]
  },
  {
   "cell_type": "code",
   "execution_count": 18,
   "metadata": {},
   "outputs": [
    {
     "name": "stdout",
     "output_type": "stream",
     "text": [
      "False\n"
     ]
    }
   ],
   "source": [
    "print(cifttek(27))"
   ]
  },
  {
   "cell_type": "code",
   "execution_count": 19,
   "metadata": {},
   "outputs": [
    {
     "name": "stdout",
     "output_type": "stream",
     "text": [
      "True\n"
     ]
    }
   ],
   "source": [
    "print(cifttek(26))"
   ]
  },
  {
   "cell_type": "markdown",
   "metadata": {},
   "source": [
    "Lambda ifadeleri, tek satırda tanımlanabilecek küçük fonksiyonlar için kullanılır. Büyük kodlar içeren fonksiyonlarda, fonksiyon tanımlama kuralları ile fonksiyon tanımlanmalıdır. "
   ]
  },
  {
   "cell_type": "markdown",
   "metadata": {},
   "source": [
    "# UYGULAMA : Bir  sayının asal sayı olup olmadığının kontrolü"
   ]
  },
  {
   "cell_type": "code",
   "execution_count": 22,
   "metadata": {},
   "outputs": [
    {
     "name": "stdout",
     "output_type": "stream",
     "text": [
      "Sayı:1\n",
      "1 asal bir sayıdır\n",
      "Sayı:2\n",
      "2 asal bir sayıdır\n",
      "Sayı:3\n",
      "3 asal bir sayıdır\n",
      "Sayı:4\n",
      "4 asal bir sayı değildir.\n",
      "Sayı:5\n",
      "5 asal bir sayıdır\n",
      "Sayı:17\n",
      "17 asal bir sayıdır\n",
      "Sayı:21\n",
      "21 asal bir sayı değildir.\n",
      "Sayı:149\n",
      "149 asal bir sayıdır\n",
      "Sayı:2\n",
      "2 asal bir sayıdır\n",
      "Sayı:q\n",
      "program sonlanıyor\n"
     ]
    }
   ],
   "source": [
    "\"\"\"\n",
    "Asal sayılar sadece kendisine ve 1 sayısına bölünebilirler\n",
    "\n",
    "\"\"\"\n",
    "\n",
    "def asal_mi(sayı):\n",
    "    if (sayı == 1):\n",
    "        return True\n",
    "    elif (sayı == 2):\n",
    "        return True\n",
    "\n",
    "    else:\n",
    "        for i in range(2,sayı):\n",
    "            if (sayı % i ==0):\n",
    "                return False\n",
    "        return True\n",
    "    \n",
    "\"\"\" 2'den sayıya kadar, sayı dahil değil bir liste oluşturduk, eğer bu liste içindeki\n",
    "bir sayı, sayıyı tam bölüyorsa o zaman sayımız asal değildir.\"\"\"\n",
    "\n",
    "while True:\n",
    "    sayı =input(\"Sayı:\")\n",
    "\n",
    "    if (sayı == \"q\"):\n",
    "        print(\"program sonlanıyor\")\n",
    "        break\n",
    "\n",
    "    else:\n",
    "        sayı = int(sayı)\n",
    "\n",
    "    if (asal_mi(sayı)):\n",
    "        print(sayı,\"asal bir sayıdır\")\n",
    "    else:\n",
    "        print(sayı, \"asal bir sayı değildir.\")"
   ]
  },
  {
   "cell_type": "code",
   "execution_count": null,
   "metadata": {},
   "outputs": [],
   "source": [
    "\"\"\"\n",
    "Bir sayının tam bölenleri\n",
    "\n",
    "Sayıya kadar liste oluşturabilir ve bu liste içinde olup\n",
    "sayıyı tam bölenleri ayırabiliriz.\n",
    "\n",
    "\"\"\"\n",
    "\n",
    "def tambölenler(sayı):\n",
    "    tam_bölenler = []\n",
    "\n",
    "    for i in range(2,sayı):\n",
    "\n",
    "        if (sayı % i == 0):\n",
    "            tam_bölenler.append(i)\n",
    "    return tam_bölenler\n",
    "\n",
    "while True:\n",
    "\n",
    "    sayı = input(\"Sayı:\")\n",
    "\n",
    "    if (sayı == \"q\"):\n",
    "        print(\"Program sonlanıyor\")\n",
    "        break\n",
    "    else:\n",
    "        sayı = int(sayı)\n",
    "        print(\"Tam Bölneler:\",tambölenler(sayı))"
   ]
  },
  {
   "cell_type": "code",
   "execution_count": 2,
   "metadata": {},
   "outputs": [
    {
     "name": "stdout",
     "output_type": "stream",
     "text": [
      "Sayı:100\n",
      "Tam Bölenler: [2, 4, 5, 10, 20, 25, 50]\n",
      "Sayı:254\n",
      "Tam Bölenler: [2, 127]\n",
      "Sayı:255\n",
      "Tam Bölenler: [3, 5, 15, 17, 51, 85]\n",
      "Sayı:253\n",
      "Tam Bölenler: [11, 23]\n",
      "Sayı:1234567\n",
      "Tam Bölenler: [127, 9721]\n",
      "Sayı:13\n",
      "Tam Bölenler: []\n",
      "Sayı:q\n",
      "Program sonlanıyor\n"
     ]
    }
   ],
   "source": [
    "\"\"\"\n",
    "Bir sayının tam bölenleri\n",
    "\n",
    "Sayıya kadar liste oluşturabilir ve bu liste içinde olup\n",
    "sayıyı tam bölenleri ayırabiliriz.\n",
    "\n",
    "\"\"\"\n",
    "\n",
    "def tambölenler(sayı):\n",
    "    tam_bölenler = []\n",
    "\n",
    "    for i in range(2,sayı):\n",
    "\n",
    "        if (sayı % i == 0):\n",
    "            tam_bölenler.append(i)\n",
    "    return tam_bölenler\n",
    "\n",
    "while True:\n",
    "\n",
    "    sayı = input(\"Sayı:\")\n",
    "\n",
    "    if (sayı == \"q\"):\n",
    "        print(\"Program sonlanıyor\")\n",
    "        break\n",
    "    else:\n",
    "        sayı = int(sayı)\n",
    "        print(\"Tam Bölenler:\",tambölenler(sayı))"
   ]
  },
  {
   "cell_type": "code",
   "execution_count": null,
   "metadata": {},
   "outputs": [],
   "source": []
  }
 ],
 "metadata": {
  "kernelspec": {
   "display_name": "Python 3",
   "language": "python",
   "name": "python3"
  },
  "language_info": {
   "codemirror_mode": {
    "name": "ipython",
    "version": 3
   },
   "file_extension": ".py",
   "mimetype": "text/x-python",
   "name": "python",
   "nbconvert_exporter": "python",
   "pygments_lexer": "ipython3",
   "version": "3.7.6"
  }
 },
 "nbformat": 4,
 "nbformat_minor": 4
}
