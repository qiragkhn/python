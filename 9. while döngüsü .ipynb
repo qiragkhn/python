{
 "cells": [
  {
   "cell_type": "markdown",
   "metadata": {},
   "source": [
    "# while döngüsü "
   ]
  },
  {
   "cell_type": "markdown",
   "metadata": {},
   "source": [
    "for döngüsünden yapı olarak farklıdır ancak for döngüleri ile yapabildiğimiz her şeyi while döngüleri ile de yapabiliriz. while döngüsü de blok yapısındadır ve koşul sağlandığı sürece bloktaki işlemi tekrar tekrar yapar. Koşul false olduğunda döngü sonlanır. Bu nedenle mutlaka fals olan bir koşul belirtilmelidir aksi halde döngü kısır döngü ya da sonsuz döngü olarak çalışmaya devam eder. Bu tip durumlarda interrupt ile döngünün sonlandırılması gerekecektir. "
   ]
  },
  {
   "cell_type": "code",
   "execution_count": 2,
   "metadata": {},
   "outputs": [
    {
     "name": "stdout",
     "output_type": "stream",
     "text": [
      "i' nin değeri 0\n",
      "i' nin değeri 1\n",
      "i' nin değeri 2\n",
      "i' nin değeri 3\n",
      "i' nin değeri 4\n",
      "i' nin değeri 5\n",
      "i' nin değeri 6\n",
      "i' nin değeri 7\n",
      "i' nin değeri 8\n",
      "i' nin değeri 9\n"
     ]
    }
   ],
   "source": [
    "i = 0 \n",
    "\n",
    "while (i < 10): \n",
    "    print(\"i' nin değeri\", i)\n",
    "    i += 1"
   ]
  },
  {
   "cell_type": "code",
   "execution_count": 4,
   "metadata": {},
   "outputs": [
    {
     "name": "stdout",
     "output_type": "stream",
     "text": [
      "i' nin değeri 0\n",
      "i' nin değeri 2\n",
      "i' nin değeri 4\n",
      "i' nin değeri 6\n",
      "i' nin değeri 8\n",
      "i' nin değeri 10\n",
      "i' nin değeri 12\n",
      "i' nin değeri 14\n",
      "i' nin değeri 16\n",
      "i' nin değeri 18\n",
      "i' nin değeri 20\n"
     ]
    }
   ],
   "source": [
    "i = 0 \n",
    "\n",
    "while (i <= 20): \n",
    "    print(\"i' nin değeri\", i)\n",
    "    i += 2"
   ]
  },
  {
   "cell_type": "markdown",
   "metadata": {},
   "source": [
    "Ekrana 40 defa Python çalışıyoruz yazdıran programa bakalım "
   ]
  },
  {
   "cell_type": "code",
   "execution_count": 6,
   "metadata": {},
   "outputs": [
    {
     "name": "stdout",
     "output_type": "stream",
     "text": [
      "Python Çalışıyoruz...\n",
      "Python Çalışıyoruz...\n",
      "Python Çalışıyoruz...\n",
      "Python Çalışıyoruz...\n",
      "Python Çalışıyoruz...\n",
      "Python Çalışıyoruz...\n",
      "Python Çalışıyoruz...\n",
      "Python Çalışıyoruz...\n",
      "Python Çalışıyoruz...\n",
      "Python Çalışıyoruz...\n",
      "Python Çalışıyoruz...\n"
     ]
    }
   ],
   "source": [
    "u = 0 \n",
    "\n",
    "while (u <= 10): \n",
    "    print(\"Python Çalışıyoruz...\")\n",
    "    u += 1"
   ]
  },
  {
   "cell_type": "code",
   "execution_count": 8,
   "metadata": {},
   "outputs": [
    {
     "name": "stdout",
     "output_type": "stream",
     "text": [
      "1\n",
      "2\n",
      "3\n",
      "4\n",
      "5\n"
     ]
    }
   ],
   "source": [
    "liste = [1,2,3,4,5]\n",
    "\n",
    "for i in liste: \n",
    "    print(i)"
   ]
  },
  {
   "cell_type": "markdown",
   "metadata": {},
   "source": [
    "aynı işlemi while ile yapmak için index değeri kullanılır. "
   ]
  },
  {
   "cell_type": "code",
   "execution_count": 9,
   "metadata": {},
   "outputs": [
    {
     "name": "stdout",
     "output_type": "stream",
     "text": [
      "index : 0 Liste elemanı 1\n",
      "index : 1 Liste elemanı 2\n",
      "index : 2 Liste elemanı 3\n",
      "index : 3 Liste elemanı 4\n",
      "index : 4 Liste elemanı 5\n"
     ]
    }
   ],
   "source": [
    "index = 0\n",
    "\n",
    "while (index < len(liste)):\n",
    "    print(\"index :\", index, \"Liste elemanı\", liste[index])\n",
    "    index += 1"
   ]
  },
  {
   "cell_type": "markdown",
   "metadata": {},
   "source": [
    "# range() fonksiyonu "
   ]
  },
  {
   "cell_type": "markdown",
   "metadata": {},
   "source": [
    "Döngülerde oldukça yararlı olan belirtilen başlangıç, bitiş ve artım değeri ile sayı değeri ile liste oluşturulabilen bir fonksiyondur. "
   ]
  },
  {
   "cell_type": "code",
   "execution_count": 10,
   "metadata": {},
   "outputs": [
    {
     "data": {
      "text/plain": [
       "range(0, 20)"
      ]
     },
     "execution_count": 10,
     "metadata": {},
     "output_type": "execute_result"
    }
   ],
   "source": [
    "range(0,20)"
   ]
  },
  {
   "cell_type": "code",
   "execution_count": 12,
   "metadata": {},
   "outputs": [
    {
     "name": "stdout",
     "output_type": "stream",
     "text": [
      "0 1 2 3 4 5 6 7 8 9 10 11 12 13 14 15 16 17 18 19\n"
     ]
    }
   ],
   "source": [
    "print(*range(0,20))"
   ]
  },
  {
   "cell_type": "markdown",
   "metadata": {},
   "source": [
    "range fonksiyonu ekrana yazdırılırken print içerisinde * sembolü kullanılmak zorundadır. "
   ]
  },
  {
   "cell_type": "code",
   "execution_count": 15,
   "metadata": {},
   "outputs": [
    {
     "name": "stdout",
     "output_type": "stream",
     "text": [
      "0 1 2 3 4 5 6 7 8 9 10 11 12 13 14 15 16 17 18 19 20 21 22 23 24 25 26 27 28 29 30 31 32 33 34 35 36 37 38 39 40 41 42 43 44 45 46 47 48 49 50 51 52 53 54 55 56 57 58 59 60 61 62 63 64 65 66 67 68 69 70 71 72 73 74 75 76 77 78 79 80 81 82 83 84 85 86 87 88 89 90 91 92 93 94 95 96 97 98 99\n"
     ]
    }
   ],
   "source": [
    "print(*range(0,100))"
   ]
  },
  {
   "cell_type": "code",
   "execution_count": 16,
   "metadata": {},
   "outputs": [
    {
     "name": "stdout",
     "output_type": "stream",
     "text": [
      "1 2 3 4 5 6 7 8 9 10 11 12 13 14 15 16 17 18 19\n"
     ]
    }
   ],
   "source": [
    "print(*range(1,20))"
   ]
  },
  {
   "cell_type": "code",
   "execution_count": 17,
   "metadata": {},
   "outputs": [
    {
     "name": "stdout",
     "output_type": "stream",
     "text": [
      "0 1 2 3 4 5 6 7 8 9 10 11 12 13 14\n"
     ]
    }
   ],
   "source": [
    "print(*range(15))"
   ]
  },
  {
   "cell_type": "code",
   "execution_count": 22,
   "metadata": {},
   "outputs": [
    {
     "name": "stdout",
     "output_type": "stream",
     "text": [
      "1 3 5 7 9 11 13 15 17 19 21 23 25 27 29 31 33 35 37 39 41 43 45 47 49 51 53 55 57 59 61 63 65 67 69 71 73 75 77 79 81 83 85 87 89 91 93 95 97 99\n"
     ]
    }
   ],
   "source": [
    "print(*range(1,100,2))"
   ]
  },
  {
   "cell_type": "code",
   "execution_count": 23,
   "metadata": {},
   "outputs": [
    {
     "name": "stdout",
     "output_type": "stream",
     "text": [
      "5 8 11 14 17 20 23 26 29 32 35 38 41 44 47 50 53 56 59 62 65 68 71 74 77 80 83 86 89 92 95 98\n"
     ]
    }
   ],
   "source": [
    "print(*range(5,100,3))"
   ]
  },
  {
   "cell_type": "code",
   "execution_count": 24,
   "metadata": {},
   "outputs": [
    {
     "name": "stdout",
     "output_type": "stream",
     "text": [
      "20 19 18 17 16 15 14 13 12 11 10 9 8 7 6 5 4 3 2 1\n"
     ]
    }
   ],
   "source": [
    "print(*range(20,0,-1))"
   ]
  },
  {
   "cell_type": "code",
   "execution_count": 25,
   "metadata": {},
   "outputs": [
    {
     "name": "stdout",
     "output_type": "stream",
     "text": [
      "1\n",
      "2\n",
      "3\n",
      "4\n",
      "5\n",
      "6\n",
      "7\n",
      "8\n"
     ]
    }
   ],
   "source": [
    "liste = [1,2,3,4,5,6,7,8,]\n",
    "\n",
    "for i in liste:\n",
    "    print(i)"
   ]
  },
  {
   "cell_type": "code",
   "execution_count": 28,
   "metadata": {},
   "outputs": [
    {
     "name": "stdout",
     "output_type": "stream",
     "text": [
      "1\n",
      "2\n",
      "3\n",
      "4\n",
      "5\n",
      "6\n",
      "7\n",
      "8\n",
      "9\n",
      "10\n",
      "11\n",
      "12\n",
      "13\n",
      "14\n",
      "15\n",
      "16\n",
      "17\n",
      "18\n",
      "19\n",
      "20\n"
     ]
    }
   ],
   "source": [
    "for i in range(1,21):\n",
    "    print(i)"
   ]
  },
  {
   "cell_type": "code",
   "execution_count": 34,
   "metadata": {},
   "outputs": [
    {
     "name": "stdout",
     "output_type": "stream",
     "text": [
      "*\n",
      "**\n",
      "***\n",
      "****\n",
      "*****\n",
      "******\n",
      "*******\n",
      "********\n",
      "*********\n",
      "**********\n",
      "***********\n",
      "************\n",
      "*************\n",
      "**************\n",
      "***************\n",
      "****************\n",
      "*****************\n",
      "******************\n",
      "*******************\n"
     ]
    }
   ],
   "source": [
    "for i in range(1,20):\n",
    "    print(\"*\" * i)"
   ]
  },
  {
   "cell_type": "markdown",
   "metadata": {},
   "source": [
    "# Break ve Continue  "
   ]
  },
  {
   "cell_type": "markdown",
   "metadata": {},
   "source": [
    "Döngülerin içerisinde kullanılan ve döngüleri daha etkin kullanabildiğimiz yapılardır. "
   ]
  },
  {
   "cell_type": "markdown",
   "metadata": {},
   "source": [
    "break ifadesi "
   ]
  },
  {
   "cell_type": "markdown",
   "metadata": {},
   "source": [
    "Programcılar tarafından daha sık tercih edilen bir ifadedir. Break ifadesi hiçbir koşula gerek olmadan döngüden çıkmayı sağlamaktadır. Break ifadesi sadece ait olduğu döngüyü sonlandırır. Eğer iç içe döngüler varsa o zaman hangi döngüye aitse o döngüyü sonlandırır.  "
   ]
  },
  {
   "cell_type": "code",
   "execution_count": 37,
   "metadata": {},
   "outputs": [
    {
     "name": "stdout",
     "output_type": "stream",
     "text": [
      "i: 0\n",
      "i: 1\n",
      "i: 2\n",
      "i: 3\n",
      "i: 4\n",
      "i: 5\n",
      "i: 6\n",
      "i: 7\n",
      "i: 8\n",
      "i: 9\n"
     ]
    }
   ],
   "source": [
    "i = 0 \n",
    "\n",
    "while (i < 10):\n",
    "    print(\"i:\",i)\n",
    "    i += 1"
   ]
  },
  {
   "cell_type": "code",
   "execution_count": 38,
   "metadata": {},
   "outputs": [
    {
     "name": "stdout",
     "output_type": "stream",
     "text": [
      "i: 0\n",
      "i: 1\n",
      "i: 2\n",
      "i: 3\n",
      "i: 4\n"
     ]
    }
   ],
   "source": [
    "i = 0 \n",
    "\n",
    "while (i < 10):\n",
    "    if (i == 5):\n",
    "        break\n",
    "    print(\"i:\",i)\n",
    "    i += 1"
   ]
  },
  {
   "cell_type": "code",
   "execution_count": 39,
   "metadata": {},
   "outputs": [
    {
     "name": "stdout",
     "output_type": "stream",
     "text": [
      "i: 1\n",
      "i: 2\n"
     ]
    }
   ],
   "source": [
    "liste = [1,2,3,4,5]\n",
    "\n",
    "for i in liste:\n",
    "    if(i == 3):\n",
    "        break\n",
    "    print(\"i:\", i)"
   ]
  },
  {
   "cell_type": "markdown",
   "metadata": {},
   "source": [
    "while True: sonsuza dek dönecek bir döngüdür. Şimdi, klavyeden girilecek q harfine kadar sürekli olarak kullanıcı ismi isteyen bir program yazalım. \n",
    "    "
   ]
  },
  {
   "cell_type": "code",
   "execution_count": 42,
   "metadata": {},
   "outputs": [
    {
     "name": "stdout",
     "output_type": "stream",
     "text": [
      "isim (çıkmak için 'q' ya basınız: HAgi\n",
      "isminiz: HAgi\n",
      "isim (çıkmak için 'q' ya basınız: Prekazi\n",
      "isminiz: Prekazi\n",
      "isim (çıkmak için 'q' ya basınız: Popescu\n",
      "isminiz: Popescu\n",
      "isim (çıkmak için 'q' ya basınız: Tugay\n",
      "isminiz: Tugay\n",
      "isim (çıkmak için 'q' ya basınız: Tafarel\n",
      "isminiz: Tafarel\n",
      "isim (çıkmak için 'q' ya basınız: Metin Oktay\n",
      "isminiz: Metin Oktay\n",
      "isim (çıkmak için 'q' ya basınız: q\n",
      "programdan çıkılıyor...\n"
     ]
    }
   ],
   "source": [
    "while True: \n",
    "    isim = input(\"isim (çıkmak için 'q' ya basınız: \")\n",
    "    if (isim == 'q'):\n",
    "        print(\"programdan çıkılıyor...\")\n",
    "        break\n",
    "    print(\"isminiz:\", isim)"
   ]
  },
  {
   "cell_type": "markdown",
   "metadata": {},
   "source": [
    "continue "
   ]
  },
  {
   "cell_type": "markdown",
   "metadata": {},
   "source": [
    "break komutuna nazaran çok daha az kullanılan bir komuttur. Döngünün herhangi bir yerinde continue komutu bulunursa, döngü sonraki işlemleri yapmadan doğrudan döngünün başına dönmektedir. "
   ]
  },
  {
   "cell_type": "code",
   "execution_count": 11,
   "metadata": {},
   "outputs": [
    {
     "name": "stdout",
     "output_type": "stream",
     "text": [
      "[0, 1, 2, 3, 4, 5, 6, 7, 8, 9, 10]\n"
     ]
    }
   ],
   "source": [
    "liste = list(range(0,11))\n",
    "print(liste)"
   ]
  },
  {
   "cell_type": "code",
   "execution_count": 5,
   "metadata": {},
   "outputs": [
    {
     "name": "stdout",
     "output_type": "stream",
     "text": [
      "i: 0\n",
      "i: 1\n",
      "i: 2\n",
      "i: 3\n",
      "i: 4\n",
      "i: 5\n",
      "i: 6\n",
      "i: 7\n",
      "i: 8\n",
      "i: 9\n",
      "i: 10\n"
     ]
    }
   ],
   "source": [
    "for i in liste:\n",
    "    print(\"i:\", i )"
   ]
  },
  {
   "cell_type": "code",
   "execution_count": 6,
   "metadata": {},
   "outputs": [
    {
     "name": "stdout",
     "output_type": "stream",
     "text": [
      "i: 3\n",
      "i: 5\n"
     ]
    }
   ],
   "source": [
    "for i in liste:\n",
    "    if( i == 3 or i == 5):\n",
    "        print(\"i:\", i)"
   ]
  },
  {
   "cell_type": "code",
   "execution_count": 7,
   "metadata": {},
   "outputs": [
    {
     "name": "stdout",
     "output_type": "stream",
     "text": [
      "i: 0\n",
      "i: 1\n",
      "i: 2\n",
      "i: 4\n",
      "i: 6\n",
      "i: 7\n",
      "i: 8\n",
      "i: 9\n",
      "i: 10\n"
     ]
    }
   ],
   "source": [
    "for i in liste:\n",
    "    if( i == 3 or i == 5):\n",
    "        continue\n",
    "    print(\"i:\", i)"
   ]
  },
  {
   "cell_type": "markdown",
   "metadata": {},
   "source": [
    "i = 3 olduktan sonra yer alan continu komutu ile döngü i' nin 3 olan değerini ekrana yazmadan söngünün başına çıkıyor, bu sefer artık i' nin değeri bir artırılıp 4 olduğundan program 4' ün değerini ekrana yazdırıyor. "
   ]
  },
  {
   "cell_type": "code",
   "execution_count": 14,
   "metadata": {},
   "outputs": [
    {
     "name": "stdout",
     "output_type": "stream",
     "text": [
      "i: 0\n",
      "i: 1\n"
     ]
    },
    {
     "ename": "KeyboardInterrupt",
     "evalue": "",
     "output_type": "error",
     "traceback": [
      "\u001b[1;31m---------------------------------------------------------------------------\u001b[0m",
      "\u001b[1;31mKeyboardInterrupt\u001b[0m                         Traceback (most recent call last)",
      "\u001b[1;32m<ipython-input-14-63cb04a02a9e>\u001b[0m in \u001b[0;36m<module>\u001b[1;34m\u001b[0m\n\u001b[0;32m      4\u001b[0m \u001b[1;33m\u001b[0m\u001b[0m\n\u001b[0;32m      5\u001b[0m     \u001b[1;32mif\u001b[0m \u001b[1;33m(\u001b[0m\u001b[0mi\u001b[0m \u001b[1;33m==\u001b[0m \u001b[1;36m2\u001b[0m\u001b[1;33m)\u001b[0m\u001b[1;33m:\u001b[0m\u001b[1;33m\u001b[0m\u001b[1;33m\u001b[0m\u001b[0m\n\u001b[1;32m----> 6\u001b[1;33m         \u001b[1;32mcontinue\u001b[0m\u001b[1;33m\u001b[0m\u001b[1;33m\u001b[0m\u001b[0m\n\u001b[0m\u001b[0;32m      7\u001b[0m \u001b[1;33m\u001b[0m\u001b[0m\n\u001b[0;32m      8\u001b[0m     \u001b[0mprint\u001b[0m \u001b[1;33m(\u001b[0m\u001b[1;34m\"i:\"\u001b[0m\u001b[1;33m,\u001b[0m\u001b[0mi\u001b[0m\u001b[1;33m)\u001b[0m\u001b[1;33m\u001b[0m\u001b[1;33m\u001b[0m\u001b[0m\n",
      "\u001b[1;31mKeyboardInterrupt\u001b[0m: "
     ]
    }
   ],
   "source": [
    "i=0 \n",
    "\n",
    "while (i < 10):\n",
    "    \n",
    "    if (i == 2):\n",
    "        continue\n",
    "        \n",
    "    print (\"i:\",i)\n",
    "    i += 1"
   ]
  },
  {
   "cell_type": "markdown",
   "metadata": {},
   "source": [
    "Yukarıdaki program kısır döngüye girer. i rakamı 2 olduktan sonra, program continue nedeniyle başa döner ve i'n in değeri 2'dir. i' nin değeri hep 2 olduğundan program kısır döngüdür ve sonlanmaz. "
   ]
  },
  {
   "cell_type": "code",
   "execution_count": 13,
   "metadata": {},
   "outputs": [
    {
     "name": "stdout",
     "output_type": "stream",
     "text": [
      "i: 0\n",
      "i: 1\n",
      "i: 3\n",
      "i: 4\n",
      "i: 5\n",
      "i: 6\n",
      "i: 7\n",
      "i: 8\n",
      "i: 9\n"
     ]
    }
   ],
   "source": [
    "i =0 \n",
    "\n",
    "while (i < 10):\n",
    "    \n",
    "    if (i == 2):\n",
    "        i += 1\n",
    "        continue\n",
    "        \n",
    "    print (\"i:\",i)\n",
    "    i += 1"
   ]
  },
  {
   "cell_type": "code",
   "execution_count": null,
   "metadata": {},
   "outputs": [],
   "source": []
  }
 ],
 "metadata": {
  "kernelspec": {
   "display_name": "Python 3",
   "language": "python",
   "name": "python3"
  },
  "language_info": {
   "codemirror_mode": {
    "name": "ipython",
    "version": 3
   },
   "file_extension": ".py",
   "mimetype": "text/x-python",
   "name": "python",
   "nbconvert_exporter": "python",
   "pygments_lexer": "ipython3",
   "version": "3.7.4"
  }
 },
 "nbformat": 4,
 "nbformat_minor": 2
}
