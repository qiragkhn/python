{
 "cells": [
  {
   "cell_type": "markdown",
   "metadata": {},
   "source": [
    "# Koşullu Durumlar - if -else "
   ]
  },
  {
   "cell_type": "markdown",
   "metadata": {},
   "source": [
    "Python Progrmalarının çalışma mantığı "
   ]
  },
  {
   "cell_type": "markdown",
   "metadata": {},
   "source": [
    "Python'da bir program, en üst satırdan başlayarak en alt satıra kadar satır satır işlemleri yapar, artık işlenecek satır kalmadığında program sonlanır. "
   ]
  },
  {
   "cell_type": "code",
   "execution_count": 1,
   "metadata": {},
   "outputs": [
    {
     "name": "stdout",
     "output_type": "stream",
     "text": [
      "13\n"
     ]
    }
   ],
   "source": [
    "a = 2\n",
    "b = 4\n",
    "c = 7\n",
    "print(a+b+c)"
   ]
  },
  {
   "cell_type": "markdown",
   "metadata": {},
   "source": [
    "Python'da blok yapısı girintiler sayesinde yapılır. "
   ]
  },
  {
   "cell_type": "code",
   "execution_count": 4,
   "metadata": {},
   "outputs": [
    {
     "name": "stdout",
     "output_type": "stream",
     "text": [
      "2\n",
      "Gökhan\n"
     ]
    }
   ],
   "source": [
    "a = 2 # Blok 1' in kodu \n",
    "\n",
    "if (a == 2):\n",
    "    print(a)  # blok 2\n",
    "\n",
    "print(\"Gökhan\") # Blok 1' e ait kod "
   ]
  },
  {
   "cell_type": "markdown",
   "metadata": {},
   "source": [
    "En soldan başlayan satıır herzaman blok 1 dir. "
   ]
  },
  {
   "cell_type": "code",
   "execution_count": 5,
   "metadata": {},
   "outputs": [
    {
     "name": "stdout",
     "output_type": "stream",
     "text": [
      "Gökhan\n"
     ]
    }
   ],
   "source": [
    "a = 3 # Blok 1' in kodu \n",
    "\n",
    "if (a == 2):\n",
    "    print(a)  # blok 2\n",
    "\n",
    "print(\"Gökhan\") # Blok 1' e ait kod "
   ]
  },
  {
   "cell_type": "markdown",
   "metadata": {},
   "source": [
    "# If bloğu "
   ]
  },
  {
   "cell_type": "markdown",
   "metadata": {},
   "source": [
    "if bloğu kullanılırken if(koşul) yapısı kullanılır. Bu koşul herhangi bir karşılaştırma ya da mantıksal değer kullanılmalıdır. if bloğunu açmak için : işareti kullanılır. Daha sonra alt satırdan istenen bilgiler girilir. if bloğu eğer koşul doğru ise çalışır, koşul false ise Python if bloğunu işletmez ve ilk bloktan devam eder.  "
   ]
  },
  {
   "cell_type": "code",
   "execution_count": 6,
   "metadata": {},
   "outputs": [
    {
     "name": "stdout",
     "output_type": "stream",
     "text": [
      "yaşınızı giriniz17\n",
      "Mekana giremezsiniz !\n"
     ]
    }
   ],
   "source": [
    "yas = int(input(\"yaşınızı giriniz\"))\n",
    "if yas < 18: \n",
    "    print(\"Mekana giremezsiniz !\")"
   ]
  },
  {
   "cell_type": "markdown",
   "metadata": {},
   "source": [
    "Yukarıdaki örnekte yas değişkeni 18 ise program çalışmaz, bu nedenle else komutuna başvurulmalıdır. "
   ]
  },
  {
   "cell_type": "markdown",
   "metadata": {},
   "source": [
    "if bloğu çalışmadığında else bloğu devreye girer. "
   ]
  },
  {
   "cell_type": "markdown",
   "metadata": {},
   "source": [
    "else bloğu "
   ]
  },
  {
   "cell_type": "code",
   "execution_count": 7,
   "metadata": {},
   "outputs": [
    {
     "name": "stdout",
     "output_type": "stream",
     "text": [
      "yaşınızı giriniz16\n",
      "Mekana giremezsiniz !\n"
     ]
    }
   ],
   "source": [
    "yas = int(input(\"yaşınızı giriniz\"))\n",
    "if yas < 18: \n",
    "    print(\"Mekana giremezsiniz !\")\n",
    "else:\n",
    "    print(\"Mekana hoşgeldiniz\")"
   ]
  },
  {
   "cell_type": "markdown",
   "metadata": {},
   "source": [
    "Bu örnekte, if bloğu çalıştığı ve yaş değeri 16 girildiği için else bloğu çalışmaz."
   ]
  },
  {
   "cell_type": "code",
   "execution_count": 8,
   "metadata": {},
   "outputs": [
    {
     "name": "stdout",
     "output_type": "stream",
     "text": [
      "yaşınızı giriniz19\n",
      "Mekana hoşgeldiniz\n"
     ]
    }
   ],
   "source": [
    "yas = int(input(\"yaşınızı giriniz\"))\n",
    "if yas < 18: \n",
    "    print(\"Mekana giremezsiniz !\")\n",
    "else:\n",
    "    print(\"Mekana hoşgeldiniz\")"
   ]
  },
  {
   "cell_type": "markdown",
   "metadata": {},
   "source": [
    "yaş değişkeni 19 girildiği için de bu sefer if bloğu çalışmadı fakat else bloğu çalıştı. "
   ]
  },
  {
   "cell_type": "code",
   "execution_count": 9,
   "metadata": {},
   "outputs": [
    {
     "name": "stdout",
     "output_type": "stream",
     "text": [
      "sayı-20\n",
      "negatif sayı\n"
     ]
    }
   ],
   "source": [
    "sayı = int(input(\"sayı\"))\n",
    "\n",
    "if sayı < 0:\n",
    "    print(\"negatif sayı\")\n",
    "else:\n",
    "    print(\"sıfır veya pozitif sayı\")"
   ]
  },
  {
   "cell_type": "code",
   "execution_count": 12,
   "metadata": {},
   "outputs": [
    {
     "name": "stdout",
     "output_type": "stream",
     "text": [
      "sayı33\n",
      "sıfır veya pozitif sayı\n"
     ]
    }
   ],
   "source": [
    "sayı = int(input(\"sayı\"))\n",
    "\n",
    "if sayı < 0:\n",
    "    print(\"negatif sayı\")\n",
    "else:\n",
    "    print(\"sıfır veya pozitif sayı\")"
   ]
  },
  {
   "cell_type": "markdown",
   "metadata": {},
   "source": [
    "ilk örnekte sayı negatif olduğundan else bloğu, ikinci örnekte de sayı pozitif olduğundan if bloğu çalışmadı. "
   ]
  },
  {
   "cell_type": "markdown",
   "metadata": {},
   "source": [
    "Kullanıcıdan alınan bir sayının 0, pozitif bir sayı ve negatif bir sayı olduğunu tespit eden program aşağıdakilerden hangisidir ?"
   ]
  },
  {
   "cell_type": "code",
   "execution_count": 3,
   "metadata": {},
   "outputs": [
    {
     "name": "stdout",
     "output_type": "stream",
     "text": [
      "Bir sayı giriniz 0\n",
      "sayı 0' a eşittir.\n"
     ]
    }
   ],
   "source": [
    "number = float(input(\"Bir sayı giriniz \"))\n",
    "if number >= 0:\n",
    "    if number == 0:\n",
    "        print(\"sayı 0' a eşittir.\")\n",
    "    else: \n",
    "        print(\"sayı pozitiftir.\")\n",
    "else:\n",
    "    print(\"sayı negatiftir\")"
   ]
  },
  {
   "cell_type": "code",
   "execution_count": null,
   "metadata": {},
   "outputs": [],
   "source": []
  }
 ],
 "metadata": {
  "kernelspec": {
   "display_name": "Python 3",
   "language": "python",
   "name": "python3"
  },
  "language_info": {
   "codemirror_mode": {
    "name": "ipython",
    "version": 3
   },
   "file_extension": ".py",
   "mimetype": "text/x-python",
   "name": "python",
   "nbconvert_exporter": "python",
   "pygments_lexer": "ipython3",
   "version": "3.7.4"
  }
 },
 "nbformat": 4,
 "nbformat_minor": 2
}
